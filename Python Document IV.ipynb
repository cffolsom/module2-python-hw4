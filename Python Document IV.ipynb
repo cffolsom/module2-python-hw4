{
 "cells": [
  {
   "cell_type": "markdown",
   "metadata": {},
   "source": [
    "# Object-Oriented-Programming (OOP)"
   ]
  },
  {
   "cell_type": "markdown",
   "metadata": {},
   "source": [
    "## Tasks Today:\n",
    "\n",
    "   \n",
    "\n",
    "1) <b>Creating a Class (Initializing/Declaring)</b> <br>\n",
    "2) <b>Using a Class (Instantiating)</b> <br>\n",
    " &nbsp;&nbsp;&nbsp;&nbsp; a) Creating One Instance <br>\n",
    " &nbsp;&nbsp;&nbsp;&nbsp; b) Creating Multiple Instances <br>\n",
    " &nbsp;&nbsp;&nbsp;&nbsp; c) In-Class Exercise #1 - Create a Class 'Car' and instantiate three different makes of cars <br>\n",
    "3) <b>The \\__init\\__() Method</b> <br>\n",
    " &nbsp;&nbsp;&nbsp;&nbsp; a) The 'self' Attribute <br>\n",
    "4) <b>Class Attributes</b> <br>\n",
    " &nbsp;&nbsp;&nbsp;&nbsp; a) Initializing Attributes <br>\n",
    " &nbsp;&nbsp;&nbsp;&nbsp; b) Setting an Attribute Outside of the \\__init\\__() Method <br>\n",
    " &nbsp;&nbsp;&nbsp;&nbsp; c) Setting Defaults for Attributes <br>\n",
    " &nbsp;&nbsp;&nbsp;&nbsp; d) Accessing Class Attributes <br>\n",
    " &nbsp;&nbsp;&nbsp;&nbsp; e) Changing Class Attributes <br>\n",
    " &nbsp;&nbsp;&nbsp;&nbsp; f) In-Class Exercise #2 - Add a color and wheels attribute to your 'Car' class <br>\n",
    "5) <b>Class Methods</b> <br>\n",
    " &nbsp;&nbsp;&nbsp;&nbsp; a) Creating <br>\n",
    " &nbsp;&nbsp;&nbsp;&nbsp; b) Calling <br>\n",
    " &nbsp;&nbsp;&nbsp;&nbsp; c) Modifying an Attribute's Value Through a Method <br>\n",
    " &nbsp;&nbsp;&nbsp;&nbsp; d) Incrementing an Attribute's Value Through a Method <br>\n",
    " &nbsp;&nbsp;&nbsp;&nbsp; e) In-Class Exercise #3 - Add a method that prints the cars color and wheel number, then call them <br>\n",
    "6) <b>Inheritance</b> <br>\n",
    " &nbsp;&nbsp;&nbsp;&nbsp; a) Syntax for Inheriting from a Parent Class <br>\n",
    " &nbsp;&nbsp;&nbsp;&nbsp; b) The \\__init\\__() Method for a Child Class (super()) <br>\n",
    " &nbsp;&nbsp;&nbsp;&nbsp; c) Defining Attributes and Methods for the Child Class <br>\n",
    " &nbsp;&nbsp;&nbsp;&nbsp; d) Method Overriding <br>\n",
    " &nbsp;&nbsp;&nbsp;&nbsp; e) In-Class Exercise #4 - Create a class 'Ford' that inherits from 'Car' class and initialize it as a Blue Ford Explorer with 4 wheels using the super() method <br>\n",
    "7) <b>Classes as Attributes</b> <br>\n",
    "8) <b>Exercises</b> <br>\n",
    " &nbsp;&nbsp;&nbsp;&nbsp; a) Exercise #1 - Turn the shopping cart program from yesterday into an object-oriented program <br>"
   ]
  },
  {
   "cell_type": "markdown",
   "metadata": {},
   "source": [
    "## Creating a Class (Initializing/Declaring)\n",
    "<p>When creating a class, function, or even a variable you are initializing that object. Initializing and Declaring occur at the same time in Python, whereas in lower level languages you have to declare an object before initializing it. This is the first step in the process of using a class.</p>"
   ]
  },
  {
   "cell_type": "code",
   "execution_count": 17,
   "metadata": {},
   "outputs": [],
   "source": [
    "class Car():\n",
    "    wheels = 4\n",
    "    color = 'blue'\n",
    "    windshield_wipers = 'wow wee'\n",
    "    \n",
    "    def headlights():\n",
    "        print(\"Turn them on for safety, do not crash!\")\n",
    "        \n",
    "volkswagen = Car()"
   ]
  },
  {
   "cell_type": "markdown",
   "metadata": {},
   "source": [
    "## Using a Class (Instantiating)\n",
    "<p>The process of creating a class is called <i>Instantiating</i>. Each time you create a variable of that type of class, it is referred to as an <i>Instance</i> of that class. This is the second step in the process of using a class.</p>"
   ]
  },
  {
   "cell_type": "markdown",
   "metadata": {},
   "source": [
    "##### Creating One Instance"
   ]
  },
  {
   "cell_type": "code",
   "execution_count": 3,
   "metadata": {},
   "outputs": [
    {
     "name": "stdout",
     "output_type": "stream",
     "text": [
      "blue\n"
     ]
    }
   ],
   "source": [
    "ford = Car()\n",
    "\n",
    "print(ford.color)"
   ]
  },
  {
   "cell_type": "markdown",
   "metadata": {},
   "source": [
    "##### Creating Multiple Instances"
   ]
  },
  {
   "cell_type": "code",
   "execution_count": 5,
   "metadata": {},
   "outputs": [
    {
     "name": "stdout",
     "output_type": "stream",
     "text": [
      "<class 'str'>\n"
     ]
    }
   ],
   "source": [
    "chevrolet = Car()\n",
    "honda = Car()\n",
    "porsche = Car()\n",
    "\n",
    "print(type(porsche.color))"
   ]
  },
  {
   "cell_type": "markdown",
   "metadata": {},
   "source": [
    "##### In-Class Exercise #1 - Create a Class 'Car' and Instantiate three different makes of cars"
   ]
  },
  {
   "cell_type": "code",
   "execution_count": 9,
   "metadata": {},
   "outputs": [],
   "source": [
    "class Car():\n",
    "    size = 'large'\n",
    "    wheels = 10\n",
    "    color = 'red'\n",
    "    time = 'eternal'\n",
    "\n",
    "carMake1 = Car()\n",
    "carMake2 = Car()\n",
    "carMake3 = Car()"
   ]
  },
  {
   "cell_type": "markdown",
   "metadata": {},
   "source": [
    "## The \\__init\\__() Method <br>\n",
    "<p>This method is used in almost every created class, and called only once upon the creation of the class instance. This method will initialize all variables needed for the object.</p>"
   ]
  },
  {
   "cell_type": "code",
   "execution_count": 21,
   "metadata": {},
   "outputs": [
    {
     "name": "stdout",
     "output_type": "stream",
     "text": [
      "black\n",
      "blue\n",
      "4\n",
      "6\n"
     ]
    }
   ],
   "source": [
    "class Car():\n",
    "    engine = '4.7L'\n",
    "    \n",
    "    def __init__(self, color, wheels):\n",
    "        self.color = color\n",
    "        self.wheels = wheels\n",
    "        \n",
    "mazda = Car('black', 4)\n",
    "subaru = Car('blue', 6)\n",
    "\n",
    "print(mazda.color)\n",
    "print(subaru.color)\n",
    "print(mazda.wheels)\n",
    "print(subaru.wheels)"
   ]
  },
  {
   "cell_type": "markdown",
   "metadata": {},
   "source": [
    "##### The 'self' Attribute <br>\n",
    "<p>This attribute is required to keep track of specific instance's attributes. Without the self attribute, the program would not know how to reference or keep track of an instance's attributes.</p>"
   ]
  },
  {
   "cell_type": "code",
   "execution_count": 55,
   "metadata": {},
   "outputs": [
    {
     "name": "stdout",
     "output_type": "stream",
     "text": [
      "no\n"
     ]
    },
    {
     "data": {
      "text/plain": [
       "'Why on earth would you not want a rock climbing wall in your house'"
      ]
     },
     "execution_count": 55,
     "metadata": {},
     "output_type": "execute_result"
    }
   ],
   "source": [
    "# see above\n",
    "\n",
    "class House():\n",
    "    \n",
    "    def __init__(self, wall, dishes):\n",
    "        self.wall = wall\n",
    "        self.dishes = dishes\n",
    "        \n",
    "    def washDishes(self):\n",
    "        if self.dishes.lower() == 'dirty':\n",
    "            print(self.wall)\n",
    "        \n",
    "    def rockClimbingWall(self):\n",
    "        if self.wall.lower() == 'yes':\n",
    "            return 'rock on, climber!'\n",
    "        else:\n",
    "            return 'Why on earth would you not want a rock climbing wall in your house'\n",
    "        \n",
    "brandon_house = House('no', 'dirty')\n",
    "\n",
    "brandon_house.washDishes()\n",
    "brandon_house.rockClimbingWall()"
   ]
  },
  {
   "cell_type": "markdown",
   "metadata": {},
   "source": [
    "## Class Attributes <br>\n",
    "<p>While variables are inside of a class, they are referred to as attributes and not variables. When someone says 'attribute' you know they're speaking about a class. Attributes can be initialized through the init method, or outside of it.</p>"
   ]
  },
  {
   "cell_type": "markdown",
   "metadata": {},
   "source": [
    "##### Initializing Attributes"
   ]
  },
  {
   "cell_type": "code",
   "execution_count": 22,
   "metadata": {},
   "outputs": [],
   "source": [
    "# see above\n",
    "\n",
    "class Toy():\n",
    "    kind = 'car'\n",
    "    \n",
    "    def __init__(self, rooftop, horn, wheels):\n",
    "        self.rooftop = rooftop\n",
    "        self.horn = horn\n",
    "        self.wheels = wheels\n",
    "        \n",
    "tonka_truck = Toy(1,1,4)\n",
    "hotwheels_car = Toy(2, 3, 8)"
   ]
  },
  {
   "cell_type": "markdown",
   "metadata": {},
   "source": [
    "##### Accessing Class Attributes"
   ]
  },
  {
   "cell_type": "code",
   "execution_count": 23,
   "metadata": {
    "scrolled": true
   },
   "outputs": [
    {
     "data": {
      "text/plain": [
       "8"
      ]
     },
     "execution_count": 23,
     "metadata": {},
     "output_type": "execute_result"
    }
   ],
   "source": [
    "# See Above\n",
    "\n",
    "tonka_truck.rooftop\n",
    "hotwheels_car.wheels"
   ]
  },
  {
   "cell_type": "markdown",
   "metadata": {},
   "source": [
    "##### Setting Defaults for Attributes"
   ]
  },
  {
   "cell_type": "code",
   "execution_count": 24,
   "metadata": {},
   "outputs": [
    {
     "data": {
      "text/plain": [
       "'Blue'"
      ]
     },
     "execution_count": 24,
     "metadata": {},
     "output_type": "execute_result"
    }
   ],
   "source": [
    "class Car():\n",
    "    engine = '4.7L'\n",
    "    \n",
    "    def __init__(self, wheels):\n",
    "        self.wheels = wheels\n",
    "        self.color = 'Blue'\n",
    "        \n",
    "honda=Car(4)\n",
    "honda.color"
   ]
  },
  {
   "cell_type": "markdown",
   "metadata": {},
   "source": [
    "##### Changing Class Attributes <br>\n",
    "<p>Keep in mind there are global class attributes and then there are attributes only available to each class instance which won't effect other classes.</p>"
   ]
  },
  {
   "cell_type": "code",
   "execution_count": 25,
   "metadata": {},
   "outputs": [
    {
     "name": "stdout",
     "output_type": "stream",
     "text": [
      "Before Change: Blue\n",
      "\n",
      "After Change: White\n",
      "Blue\n"
     ]
    }
   ],
   "source": [
    "jeep = Car(8)\n",
    "\n",
    "print(f'Before Change: {jeep.color}')\n",
    "\n",
    "jeep.color = 'White'\n",
    "\n",
    "print(f'\\nAfter Change: {jeep.color}')\n",
    "print(honda.color)"
   ]
  },
  {
   "cell_type": "code",
   "execution_count": null,
   "metadata": {},
   "outputs": [],
   "source": []
  },
  {
   "cell_type": "markdown",
   "metadata": {},
   "source": [
    "##### In-Class Exercise #2 - Add a doors and seats attribute to your 'Car' class then print out two different instances with different doors and seats"
   ]
  },
  {
   "cell_type": "code",
   "execution_count": 63,
   "metadata": {},
   "outputs": [
    {
     "name": "stdout",
     "output_type": "stream",
     "text": [
      "Honda has 4 seats and 4 doors.\n",
      "A Truck typically has 2 seats and 2 doors.\n"
     ]
    }
   ],
   "source": [
    "class Car():\n",
    "    engine = '4.7L'\n",
    "    \n",
    "    def __init__(self, wheels, doors, seats):\n",
    "        self.wheels = wheels\n",
    "        self.color = 'Blue'\n",
    "        self.doors = doors\n",
    "        self.seats = seats\n",
    "    \n",
    "honda=Car(4,4,4)\n",
    "print(f'Honda has {honda.seats} seats and {honda.doors} doors.')\n",
    "truck=Car(12,2,2)\n",
    "print(f'A Truck typically has {truck.seats} seats and {truck.doors} doors.')\n",
    "\n",
    "##I started this assignment before the video, whoops"
   ]
  },
  {
   "cell_type": "markdown",
   "metadata": {},
   "source": [
    "## Class Methods <br>\n",
    "<p>While inside of a class, functions are referred to as 'methods'. If you hear someone mention methods, they're speaking about classes. Methods are essentially functions, but only callable on the instances of a class.</p>"
   ]
  },
  {
   "cell_type": "markdown",
   "metadata": {},
   "source": [
    "##### Creating"
   ]
  },
  {
   "cell_type": "code",
   "execution_count": 69,
   "metadata": {},
   "outputs": [],
   "source": [
    "class ShoppingBag():\n",
    "    \"\"\"\n",
    "        The ShoppingBag class will have handles, capacity,\n",
    "        and items to place inside.\n",
    "        \n",
    "        Attributes for the class:\n",
    "        - handles: expected to be an integer\n",
    "        - capacity: expected to be a string OR an integar\n",
    "        - items: expecvted to be a list\n",
    "    \"\"\"\n",
    "    \n",
    "    def __init__(self, handles, capacity, items):\n",
    "        self.handles = handles\n",
    "        self.capacity = capacity\n",
    "        self.items = items\n",
    "        \n",
    "    #Write a method that shows the items in our ShoppingBag\n",
    "    def showShoppingBag(self):\n",
    "        print(\"You have items in your bag!\")\n",
    "        for item in self.items:\n",
    "            print(item)\n",
    "            \n",
    "    #Show the capacity of Shopping bag - how much room is left\n",
    "    def showCapacity(self):\n",
    "        print(f'Your capacity is: {self.capacity}')\n",
    "        \n",
    "    #Add item(s) to the items list for the ShoppingBag\n",
    "    def addToShoppingBag(self):\n",
    "        products = input(\"What would you like to add? \")\n",
    "        self.items.append(products)\n",
    "        \n",
    "    # Change the Capacity of the shopping bag\n",
    "    def changeBagCapacity(self, capacity):\n",
    "        self.capacity = capacity\n",
    "        \n",
    "    #Increase the capacity of the shopping bag\n",
    "    def increaseCapacity(self, changed_capacity = 10):\n",
    "        if self.capacity == isinstance(self.capacity, str):\n",
    "            print(\"We can't add that here.\")\n",
    "        else:\n",
    "            self.capacity += changed_capacity"
   ]
  },
  {
   "cell_type": "markdown",
   "metadata": {},
   "source": [
    "##### Calling"
   ]
  },
  {
   "cell_type": "code",
   "execution_count": 70,
   "metadata": {},
   "outputs": [
    {
     "name": "stdout",
     "output_type": "stream",
     "text": [
      "What do you want to do? add/show/quitadd\n",
      "What would you like to add? apples\n",
      "What do you want to do? add/show/quitadd\n",
      "What would you like to add? bananas\n",
      "What do you want to do? add/show/quitshow\n",
      "You have items in your bag!\n",
      "apples\n",
      "bananas\n",
      "What do you want to do? add/show/quitquit\n",
      "You have items in your bag!\n",
      "apples\n",
      "bananas\n",
      "Thanks for shopping\n"
     ]
    }
   ],
   "source": [
    "# See Above\n",
    "wholeFoods_bag = ShoppingBag(2,10,[])\n",
    "\n",
    "def run():\n",
    "    while True:\n",
    "        response = input('What do you want to do? add/show/quit ')\n",
    "        \n",
    "        if response.lower() == 'quit':\n",
    "            wholeFoods_bag.showShoppingBag()\n",
    "            print('Thanks for shopping')\n",
    "            break\n",
    "        elif response.lower() == \"add\":\n",
    "            wholeFoods_bag.addToShoppingBag()\n",
    "        elif response.lower() == 'show':\n",
    "            wholeFoods_bag.showShoppingBag()\n",
    "        else:\n",
    "            print(\"Try another command\")\n",
    "            \n",
    "run()"
   ]
  },
  {
   "cell_type": "markdown",
   "metadata": {},
   "source": [
    "##### Modifying an Attribute's Value Through a Method"
   ]
  },
  {
   "cell_type": "code",
   "execution_count": 75,
   "metadata": {},
   "outputs": [
    {
     "name": "stdout",
     "output_type": "stream",
     "text": [
      "Your capacity is: 10\n",
      "Capacity AFTER the change...\n",
      "Your capacity is: 10\n"
     ]
    }
   ],
   "source": [
    "wholeFoods_bag.showCapacity()\n",
    "print(\"Capacity AFTER the change...\")\n",
    "wholeFoods_bag.changeBagCapacity(10)\n",
    "wholeFoods_bag.showCapacity()"
   ]
  },
  {
   "cell_type": "markdown",
   "metadata": {},
   "source": [
    "##### Incrementing an Attribute's Value Through a Method"
   ]
  },
  {
   "cell_type": "code",
   "execution_count": 77,
   "metadata": {},
   "outputs": [
    {
     "name": "stdout",
     "output_type": "stream",
     "text": [
      "Your capacity is: 20\n",
      "After increase:\n",
      "Your capacity is: 30\n"
     ]
    }
   ],
   "source": [
    "wholeFoods_bag.showCapacity()\n",
    "print('After increase:')\n",
    "wholeFoods_bag.increaseCapacity()\n",
    "wholeFoods_bag.showCapacity()"
   ]
  },
  {
   "cell_type": "markdown",
   "metadata": {},
   "source": [
    "##### In-Class Exercise #3 - Add a method that takes in three parameters of year, doors and seats and prints out a formatted print statement with make, model, year, seats, and doors"
   ]
  },
  {
   "cell_type": "code",
   "execution_count": 91,
   "metadata": {},
   "outputs": [
    {
     "name": "stdout",
     "output_type": "stream",
     "text": [
      "This car is from 2019 and is a Ford Explorer and has 4 doors and 4 seats.\n"
     ]
    }
   ],
   "source": [
    "# Create class with 2 paramters inside of the __init__ which are make and model\n",
    "# class ShoppingBag():\n",
    "    \n",
    "#     def __init__(self, handles, capacity, items):\n",
    "#         self.handles = handles\n",
    "#         self.capacity = capacity\n",
    "#         self.items = items\n",
    "        \n",
    "#    \n",
    "#     def showShoppingBag(self):\n",
    "#         print(\"You have items in your bag!\")\n",
    "#         for item in self.items:\n",
    "#             print(item)\n",
    "            \n",
    "#     \n",
    "#     def showCapacity(self):\n",
    "#         print(f'Your capacity is: {self.capacity}')\n",
    "        \n",
    "#    \n",
    "#     def addToShoppingBag(self):\n",
    "#         products = input(\"What would you like to add? \")\n",
    "#         self.items.append(products)\n",
    "        \n",
    "#    \n",
    "#     def changeBagCapacity(self, capacity):\n",
    "#         self.capacity = capacity\n",
    "        \n",
    "#     \n",
    "#     def increaseCapacity(self, changed_capacity = 10):\n",
    "#         if self.capacity == isinstance(self.capacity, str):\n",
    "#             print(\"We can't add that here.\")\n",
    "#         else:\n",
    "#             self.capacity += changed_capacity\n",
    "# Inside of the Car class create a method that has 4 parameter in total (self,year,door,seats)\n",
    "\n",
    "# Output: This car is from 2019 and is a Ford Expolorer and has 4 doors and 5 seats\n",
    "\n",
    "class Car():\n",
    "    \n",
    "    def __init__(self, make, model):\n",
    "        self.make = make\n",
    "        self.model = model\n",
    "    \n",
    "    def carInfo(self, year, door, seats):\n",
    "        self.year = year\n",
    "        self.door = door\n",
    "        self.seats = seats\n",
    "        \n",
    "#     def printInfo():\n",
    "#         print(f'This car is from {year} and is a {make} {model} and has {door} doors and {seats} seats.')\n",
    "        \n",
    "testCar = Car(\"Ford\", \"Explorer\")\n",
    "testCar.carInfo(2019, 4, 4)\n",
    "              \n",
    "print(f'This car is from {testCar.year} and is a {testCar.make} {testCar.model} and has {testCar.door} doors and {testCar.seats} seats.')\n"
   ]
  },
  {
   "cell_type": "markdown",
   "metadata": {},
   "source": [
    "## Inheritance <br>\n",
    "<p>You can create a child-parent relationship between two classes by using inheritance. What this allows you to do is have overriding methods, but also inherit traits from the parent class. Think of it as an actual parent and child, the child will inherit the parent's genes, as will the classes in OOP</p>"
   ]
  },
  {
   "cell_type": "markdown",
   "metadata": {},
   "source": [
    "##### Syntax for Inheriting from a Parent Class"
   ]
  },
  {
   "cell_type": "code",
   "execution_count": 99,
   "metadata": {},
   "outputs": [
    {
     "name": "stdout",
     "output_type": "stream",
     "text": [
      "Bark\n",
      "Make some generic sound\n",
      "None\n",
      "9.8\n",
      "15\n"
     ]
    }
   ],
   "source": [
    "class Animal():\n",
    "    acceleration = 9.8\n",
    "    \n",
    "    def __init__(self, name, species, legs = 4):\n",
    "        self.name = name\n",
    "        self.species = species\n",
    "        self.legs = legs\n",
    "        \n",
    "    def makeSound(self):\n",
    "        print('Make some generic sound')\n",
    "        \n",
    "class Dog(Animal):\n",
    "    speed = 15\n",
    "    \n",
    "    def printInfo(self):\n",
    "        print(f\"The Dog has {self.speed}mph in speed and {self.acceleration}\")\n",
    "              \n",
    "class Mutt(Dog):\n",
    "    color = \"Tan\"\n",
    "              \n",
    "    def __init__(self, name, species, eye_color, legs = 4):\n",
    "        Dog.__init__(self,name,species,legs)\n",
    "        self.eye_color = eye_color\n",
    "              \n",
    "    def makeSound(self):\n",
    "        noise = 'Bark'\n",
    "        return noise\n",
    "    \n",
    "lassie = Dog('Lassie', 'Dog')\n",
    "basic_animal = Animal('Generic Animal Name', 'Generic Animal Species')\n",
    "buster = Mutt('Buster', 'Mut', 'Brown')\n",
    "\n",
    "print(buster.makeSound())\n",
    "print(lassie.makeSound())\n",
    "print(buster.acceleration)\n",
    "# print(basic_animal.speed)\n",
    "print(buster.speed)"
   ]
  },
  {
   "cell_type": "markdown",
   "metadata": {},
   "source": [
    "##### The \\__init\\__() Method for a Child Class - super()"
   ]
  },
  {
   "cell_type": "code",
   "execution_count": 102,
   "metadata": {
    "scrolled": true
   },
   "outputs": [
    {
     "name": "stdout",
     "output_type": "stream",
     "text": [
      "Bark\n",
      "Make some generic sound\n",
      "None\n",
      "9.8\n",
      "15\n"
     ]
    }
   ],
   "source": [
    "class Puppy(Dog):\n",
    "    color = 'black and brown'\n",
    "    \n",
    "    def __init__(self, name, species, eye_color, legs = 4):\n",
    "        super().__init__(name,species,legs)\n",
    "        self.eye_color = eye_color\n",
    "        \n",
    "    def makeSound(self):\n",
    "        noise = 'Bark'\n",
    "        return noise\n",
    "    \n",
    "print(buster.makeSound())\n",
    "print(lassie.makeSound())\n",
    "print(buster.acceleration)\n",
    "# print(basic_animal.speed)\n",
    "print(buster.speed)"
   ]
  },
  {
   "cell_type": "markdown",
   "metadata": {},
   "source": [
    "##### Defining Attributes and Methods for the Child Class"
   ]
  },
  {
   "cell_type": "code",
   "execution_count": null,
   "metadata": {},
   "outputs": [],
   "source": [
    "# See Above"
   ]
  },
  {
   "cell_type": "markdown",
   "metadata": {},
   "source": [
    "##### Method Overriding"
   ]
  },
  {
   "cell_type": "code",
   "execution_count": null,
   "metadata": {},
   "outputs": [],
   "source": [
    "# See Above"
   ]
  },
  {
   "cell_type": "markdown",
   "metadata": {},
   "source": [
    "## Classes as Attributes <br>\n",
    "<p>Classes can also be used as attributes within another class. This is useful in situations where you need to keep variables locally stored, instead of globally stored.</p>"
   ]
  },
  {
   "cell_type": "code",
   "execution_count": 106,
   "metadata": {},
   "outputs": [
    {
     "name": "stdout",
     "output_type": "stream",
     "text": [
      "20\n"
     ]
    },
    {
     "data": {
      "text/plain": [
       "'2019 Tesla Model_X 20'"
      ]
     },
     "execution_count": 106,
     "metadata": {},
     "output_type": "execute_result"
    }
   ],
   "source": [
    "class Battery():\n",
    "    volts = 7.8\n",
    "    \n",
    "    def __init__(self, cells):\n",
    "        self.cells = cells\n",
    "        \n",
    "class Car():\n",
    "    def __init__(self, year, make, model, battery):\n",
    "        self.year = year\n",
    "        self.make = make\n",
    "        self.model = model\n",
    "        self.battery = battery\n",
    "        \n",
    "    def printInfo(self):\n",
    "        return f'{self.year} {self.make} {self.model} {self.battery.cells}'\n",
    "    \n",
    "my_battery = Battery(20)\n",
    "\n",
    "tesla = Car(2019, 'Tesla', 'Model_X', my_battery)\n",
    "\n",
    "print(tesla.battery.cells)\n",
    "tesla.printInfo()"
   ]
  },
  {
   "cell_type": "markdown",
   "metadata": {},
   "source": [
    "# Exercises"
   ]
  },
  {
   "cell_type": "markdown",
   "metadata": {},
   "source": [
    "### Exercise 1 - Turn the shopping cart program from yesterday into an object-oriented program\n",
    "\n",
    "The comments in the cell below are there as a guide for thinking about the problem. However, if you feel a different way is best for you and your own thought process, please do what feels best for you by all means."
   ]
  },
  {
   "cell_type": "code",
   "execution_count": 113,
   "metadata": {},
   "outputs": [
    {
     "name": "stdout",
     "output_type": "stream",
     "text": [
      "What do you want to do? add/show/remove/quit add\n",
      "What would you like to add?bacon\n",
      "What do you want to do? add/show/remove/quit add\n",
      "What would you like to add?apples\n",
      "What do you want to do? add/show/remove/quit show\n",
      "Your carts have the following items\n",
      "bacon\n",
      "apples\n",
      "What do you want to do? add/show/remove/quit remove\n",
      "What would you like to delete?apples\n",
      "What do you want to do? add/show/remove/quit show\n",
      "Your carts have the following items\n",
      "bacon\n",
      "What do you want to do? add/show/remove/quit quit\n",
      "Your carts have the following items\n",
      "bacon\n",
      "Thanks for shopping\n"
     ]
    }
   ],
   "source": [
    "# Create a class called cart that retains items and has methods to add, remove, and show\n",
    "# class ShoppingBag():\n",
    "#     def __init__(self, handles, capacity, items):\n",
    "#         self.handles = handles\n",
    "#         self.capacity = capacity\n",
    "#         self.items = items\n",
    "        \n",
    "#    \n",
    "#     def showShoppingBag(self):\n",
    "#         print(\"You have items in your bag!\")\n",
    "#         for item in self.items:\n",
    "#             print(item)\n",
    "            \n",
    "#     \n",
    "#     def showCapacity(self):\n",
    "#         print(f'Your capacity is: {self.capacity}')\n",
    "        \n",
    "#    \n",
    "#     def addToShoppingBag(self):\n",
    "#         products = input(\"What would you like to add? \")\n",
    "#         self.items.append(products)\n",
    "        \n",
    "#    \n",
    "#     def changeBagCapacity(self, capacity):\n",
    "#         self.capacity = capacity\n",
    "        \n",
    "#     \n",
    "#     def increaseCapacity(self, changed_capacity = 10):\n",
    "#         if self.capacity == isinstance(self.capacity, str):\n",
    "#             print(\"We can't add that here.\")\n",
    "#         else:\n",
    "#             self.capacity += changed_capacity\n",
    "    \n",
    "# def shoppingCart():\n",
    "#     cart = []\n",
    "#     while True:\n",
    "#         answer = input (\"Do you want to: Show/Add/Delete or Quit? \")\n",
    "#         if answer.lower() == \"show\":\n",
    "#             print(cart)\n",
    "#         elif answer.lower() == \"add\":\n",
    "#             item = input(\"What do you want to add?\")\n",
    "#             cart.append(item)\n",
    "#         elif answer.lower() == \"delete\":\n",
    "#             deleteItem = input(\"What do you want to delete? \")\n",
    "#             cart.remove(deleteItem)\n",
    "#         elif answer.lower() == \"quit\":\n",
    "#             print(cart)\n",
    "#             break\n",
    "#         else:\n",
    "#             print(\"That is not a valid command\")\n",
    "class Cart():\n",
    "    def __init__(self, items):\n",
    "        self.items = items\n",
    "        \n",
    "    def showItems(self):\n",
    "        print(\"Your carts have the following items\")\n",
    "        for item in self.items:\n",
    "            print(item)\n",
    "            \n",
    "    def addItems(self):\n",
    "        product = input(\"What would you like to add?\")\n",
    "        self.items.append(product)\n",
    "    \n",
    "    def delItems(self):\n",
    "        product = input(\"What would you like to delete?\")\n",
    "        self.items.remove(product)\n",
    "        \n",
    "\n",
    "            \n",
    "shoppingCart = Cart([])\n",
    "\n",
    "def run():\n",
    "    while True:\n",
    "        response = input('What do you want to do? add/show/remove/quit ')\n",
    "\n",
    "        if response.lower() == 'quit':\n",
    "            shoppingCart.showItems()\n",
    "            print('Thanks for shopping')\n",
    "            break\n",
    "        elif response.lower() == \"add\":\n",
    "            shoppingCart.addItems()\n",
    "        elif response.lower() == 'show':\n",
    "            shoppingCart.showItems()\n",
    "        elif response.lower() == 'remove':\n",
    "            shoppingCart.delItems()\n",
    "        else:\n",
    "            print(\"Try another command\")\n",
    "\n",
    "run()"
   ]
  },
  {
   "cell_type": "markdown",
   "metadata": {},
   "source": [
    "### Exercise 2 - Write a Python class which has two methods get_String and print_String. get_String accept a string from the user and print_String print the string in upper case"
   ]
  },
  {
   "cell_type": "code",
   "execution_count": 17,
   "metadata": {},
   "outputs": [
    {
     "name": "stdout",
     "output_type": "stream",
     "text": [
      "What do you want to do? sentence/upper/quit sentence\n",
      "Enter a String: wow\n",
      "What do you want to do? sentence/upper/quit upper\n",
      "WOW\n",
      "What do you want to do? sentence/upper/quit quit\n"
     ]
    }
   ],
   "source": [
    "class upperString():\n",
    "    \n",
    "    def __init__ (self):\n",
    "        self.string = ''\n",
    "        \n",
    "    def get_String(self):\n",
    "        sentence = input(\"Enter a String: \")\n",
    "        self.string = sentence\n",
    "        \n",
    "    def print_String(self):\n",
    "        print(self.string.upper())\n",
    "    \n",
    "def run(astring):\n",
    "    while True:\n",
    "        response = input('What do you want to do? sentence/upper/quit ')\n",
    "        if response.lower() == 'quit':\n",
    "            break\n",
    "        elif response.lower() == 'sentence':\n",
    "            astring.get_String()\n",
    "        elif response.lower() == 'upper':\n",
    "            astring.print_String()\n",
    "        else:\n",
    "            print(\"Try another command\")\n",
    "            \n",
    "astring = upperString()\n",
    "run(astring)\n",
    "\n",
    "# class Cart():\n",
    "#     def __init__(self, items):\n",
    "#         self.items = items\n",
    "        \n",
    "#     def showItems(self):\n",
    "#         print(\"Your carts have the following items\")\n",
    "#         for item in self.items:\n",
    "#             print(item)\n",
    "            \n",
    "#     def addItems(self):\n",
    "#         product = input(\"What would you like to add?\")\n",
    "#         self.items.append(product)\n",
    "    \n",
    "#     def delItems(self):\n",
    "#         product = input(\"What would you like to delete?\")\n",
    "#         self.items.remove(product)"
   ]
  }
 ],
 "metadata": {
  "kernelspec": {
   "display_name": "Python 3 (ipykernel)",
   "language": "python",
   "name": "python3"
  },
  "language_info": {
   "codemirror_mode": {
    "name": "ipython",
    "version": 3
   },
   "file_extension": ".py",
   "mimetype": "text/x-python",
   "name": "python",
   "nbconvert_exporter": "python",
   "pygments_lexer": "ipython3",
   "version": "3.9.7"
  }
 },
 "nbformat": 4,
 "nbformat_minor": 2
}
